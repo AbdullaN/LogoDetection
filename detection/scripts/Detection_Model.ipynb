{
 "cells": [
  {
   "cell_type": "code",
   "execution_count": 2,
   "metadata": {},
   "outputs": [
    {
     "name": "stdout",
     "output_type": "stream",
     "text": [
      "\u001b[34m\u001b[1mdetect: \u001b[0mweights=['weights/98.1-finetuned/best98.pt'], source=/Users/abdulla/Desktop/presentation/yolov5/runs/detect/exp4/crops/Logo/7a717a83e83e2fd8ba1d83ab69e01fab.jpg, data=yolov5/data/coco128.yaml, imgsz=[640, 640], conf_thres=0.25, iou_thres=0.45, max_det=1000, device=, view_img=False, save_txt=False, save_conf=False, save_crop=True, nosave=False, classes=None, agnostic_nms=False, augment=False, visualize=False, update=False, project=yolov5/runs/detect, name=exp, exist_ok=False, line_thickness=3, hide_labels=False, hide_conf=False, half=False, dnn=False, vid_stride=1\n",
      "YOLOv5 🚀 v7.0-132-ga82132c Python-3.7.13 torch-1.13.1 CPU\n",
      "\n",
      "Fusing layers... \n",
      "[W NNPACK.cpp:53] Could not initialize NNPACK! Reason: Unsupported hardware.\n",
      "YOLOv5s summary: 157 layers, 7012822 parameters, 0 gradients, 15.8 GFLOPs\n",
      "image 1/1 /Users/abdulla/Desktop/presentation/yolov5/runs/detect/exp4/crops/Logo/7a717a83e83e2fd8ba1d83ab69e01fab.jpg: 448x640 3 Logos, 549.4ms\n",
      "Speed: 1.4ms pre-process, 549.4ms inference, 4.0ms NMS per image at shape (1, 3, 640, 640)\n",
      "Results saved to \u001b[1myolov5/runs/detect/exp5\u001b[0m\n"
     ]
    }
   ],
   "source": [
    "!python yolov5/detect.py --weights weights/98.1-finetuned/best98.pt --source /Users/abdulla/Desktop/presentation/yolov5/runs/detect/exp4/crops/Logo/7a717a83e83e2fd8ba1d83ab69e01fab.jpg --save-crop "
   ]
  },
  {
   "cell_type": "code",
   "execution_count": null,
   "metadata": {},
   "outputs": [],
   "source": []
  }
 ],
 "metadata": {
  "kernelspec": {
   "display_name": "Machinelearning",
   "language": "python",
   "name": "python3"
  },
  "language_info": {
   "codemirror_mode": {
    "name": "ipython",
    "version": 3
   },
   "file_extension": ".py",
   "mimetype": "text/x-python",
   "name": "python",
   "nbconvert_exporter": "python",
   "pygments_lexer": "ipython3",
   "version": "3.7.13"
  },
  "orig_nbformat": 4
 },
 "nbformat": 4,
 "nbformat_minor": 2
}
